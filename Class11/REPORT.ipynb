{
 "cells": [
  {
   "cell_type": "markdown",
   "id": "bfd19e2b-636c-4e82-ae40-efc442cf4c31",
   "metadata": {},
   "source": [
    "- Name: Brice ROBERT\n",
    "- Class: 2025"
   ]
  },
  {
   "cell_type": "markdown",
   "id": "e5d1d616-925b-43a4-96e6-b54203fe8863",
   "metadata": {},
   "source": [
    "$\\Large{\\textbf{Individual assignment - Who we are and what we stand for?}}$"
   ]
  },
  {
   "cell_type": "markdown",
   "id": "d73150c7-5556-4335-92e8-6957c7a202cf",
   "metadata": {},
   "source": [
    "Watch the following video: \"Apple's recruitment campaign\", in which the company defines its identity through its employees.\n",
    "\n",
    "https://www.youtube.com/watch?v=X9SK052cF3c \n",
    "\n",
    "Look for the following elements in the workers' speeches and answer the questions:\n",
    "\n",
    "- Sense of transcendence: How do they feel they are contributing to a larger project at Apple?\n",
    "- Benefits they provide to others: What positive impact do they contribute to their work?\n",
    "- Uniqueness: what distinguishes Apple from its competition?"
   ]
  },
  {
   "cell_type": "markdown",
   "id": "abd99a03-9306-4a92-8365-9877a7145127",
   "metadata": {},
   "source": [
    "# In Apple's recruitment video, "
   ]
  },
  {
   "cell_type": "markdown",
   "id": "60702a89-908a-45a1-867b-2e25d9a02c34",
   "metadata": {},
   "source": [
    "---\n",
    "\n",
    "Employees articulate their experiences, highlighting key elements that define Apple's identity:\n",
    "\n",
    "**1. Sense of Transcendence: How do they feel they are contributing to a larger project at Apple?**\n",
    "\n",
    "Employees express a profound connection to Apple's mission, emphasizing their roles in creating products that impact millions globally. They convey a sense of pride in contributing to innovations that shape the future and enhance people's lives, reflecting a commitment to being part of something greater than themselves.\n",
    "\n",
    "**2. Benefits Provided to Others: Positive Impact of Their Work**\n",
    "\n",
    "The video showcases employees discussing how their work leads to tangible benefits for users, such as improved accessibility, enhanced user experiences, and the creation of tools that empower individuals in their daily lives. This focus on user-centric design underscores Apple's dedication to making a positive difference through technology.\n",
    "\n",
    "**3. Uniqueness: What Distinguishes Apple from Its Competition**\n",
    "\n",
    "Employees highlight several factors that set Apple apart:\n",
    "\n",
    "- **Innovation Culture:** A relentless pursuit of excellence and willingness to challenge the status quo.\n",
    "- **Collaborative Environment:** A team-oriented approach that fosters creativity and collective problem-solving.\n",
    "- **Integrated Design Philosophy:** Seamless integration of hardware and software to create cohesive user experiences.\n",
    "- **Focus on Quality:** An uncompromising commitment to delivering high-quality products.\n",
    "\n"
   ]
  },
  {
   "cell_type": "markdown",
   "id": "379beec8-6202-4671-84bc-a0c03180466b",
   "metadata": {},
   "source": [
    "# Now reflect on :\n",
    "- your learning group, the TeamLead class and Eurecom,\n",
    "- do you have a stronger sense of who you are and what you stand for?"
   ]
  },
  {
   "cell_type": "markdown",
   "id": "105d088c-c9a3-4e60-abd8-80de3e7ad9f5",
   "metadata": {},
   "source": [
    "---\n",
    "- **Sense of Identity:** By going through the class exercises, I enjoyed the spirit of sharing. The fact that the group is diverse brings lots of ideas and a sense of belongings when the ideas are merged together.\n",
    "\n",
    "- **Shared Purpose:** The class tought some interesting concepts that will be applicable in our daily interactions, professional and personnal wise (i.e. self-reflections, listening to our emotions, ...)\n",
    "\n",
    "- **Personal Growth:** Whatever you do, transpires in your interactions with others, I enjoyed all the tensions when building something and the relaxation when things were built as a team.\n"
   ]
  },
  {
   "cell_type": "markdown",
   "id": "1a2cf361-3b12-49bc-9dc2-955b77759218",
   "metadata": {},
   "source": [
    "# Questions for Robin MacAskill from Motorola Solutions"
   ]
  },
  {
   "cell_type": "markdown",
   "id": "43f453fb-fc78-4723-af69-0c92f46bdaf1",
   "metadata": {},
   "source": [
    "1. **Innovation and Identity:** How does Motorola Solutions foster a culture of innovation, and how does this culture shape the company's identity in the tech industry?\n",
    "\n",
    "2. **Employee Impact:** In what ways does Motorola Solutions ensure that employees feel their work contributes to larger societal goals, and how is this communicated within the organization?\n",
    "\n",
    "3. **Differentiation Strategies:** What key factors distinguish Motorola Solutions from its competitors, and how does the company leverage these unique aspects to maintain a competitive edge?\n",
    "\n",
    "4. **Leadership Development:** How does Motorola Solutions support the growth and development of its leaders, particularly in aligning personal values with the company's mission?\n",
    "\n",
    "5. **Adaptation to Change:** How does Motorola Solutions navigate industry changes and ensure that its workforce remains engaged and aligned with the company's evolving objectives?"
   ]
  },
  {
   "cell_type": "code",
   "execution_count": null,
   "id": "34b2e19a-c7c0-4558-adba-9183fbaf10b7",
   "metadata": {},
   "outputs": [],
   "source": []
  }
 ],
 "metadata": {
  "kernelspec": {
   "display_name": "Julia 1.11.3",
   "language": "julia",
   "name": "julia-1.11"
  },
  "language_info": {
   "file_extension": ".jl",
   "mimetype": "application/julia",
   "name": "julia",
   "version": "1.11.3"
  }
 },
 "nbformat": 4,
 "nbformat_minor": 5
}
