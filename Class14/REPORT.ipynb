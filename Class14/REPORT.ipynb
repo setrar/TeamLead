{
 "cells": [
  {
   "cell_type": "markdown",
   "id": "09b1fc32-2d4f-49e7-9e50-55dae7bf4c94",
   "metadata": {},
   "source": [
    "$$\\Huge\\textbf{Building your vision speech: where are we headed?}$$"
   ]
  },
  {
   "cell_type": "markdown",
   "id": "0d0b062d-3412-40d3-9684-c6f70c5c9ab1",
   "metadata": {},
   "source": [
    "- Name: Brice ROBERT\n",
    "- Class: 2025"
   ]
  },
  {
   "cell_type": "markdown",
   "id": "0953e084-0beb-4a23-8173-2d921181323f",
   "metadata": {},
   "source": [
    "This is the final step to create your leadership vision. The activity consists of developing an innovative idea that will propel your learning group, team, TeamLead class, or Eurecom in new, exciting, and valuable directions.\n",
    "\n",
    "Again imagine that your learning group/team has just received a research grant for the next 6-9 months. Briefly reflect on the external environment and the specific trends (Leadership, Social, Technological, Economic, Political, Environmental and shifts in Values) that are shaping the future of your group, team, TeamLead class, Eurecom and future career.  You must bring all what you have learned together from the course to create a new, compelling, and consistent vision for your team and Eurecom's future. This vision includes a powerful new idea that must be aligned with the core elements of \"Who We Are,\" and related in some way to \"Where We Come From.”\n",
    "\n",
    "- Be sure to answer this question:\n",
    "\n",
    ">What are the threats and new opportunities, especially those opportunities that your competitors (other engineering schools and research teams in Institutes like MIT) are underestimating?"
   ]
  },
  {
   "cell_type": "markdown",
   "id": "b861f420-3249-4f69-b61e-b7f665604a7b",
   "metadata": {},
   "source": [
    "---\n",
    "\n",
    "A research grant in Academia is always an encouragement and acknowledgement to a hard work. \n",
    "\n",
    "Since comparing to MIT, EURECOM has some leverage that few engineering schools may have. It has an Open Source called the OAI or the Open Air Interface. One would argue that MIT also has an Open Source Language geared towards Mathematicians (and created by Mathematicians) but then you also have the EPFL with the Scala Language.\n",
    "\n",
    "The lingering issue that these open souce foundations face is the lack of visibility. Less visibility, less interest then less funding. We have learned throughout the course how to get engaged, how to reach a good level of engagement by and for the community. \n",
    "\n",
    "The TeamLead class can play a major role in forming community managers that will attract young developers, engineers even entrepreneurs."
   ]
  },
  {
   "cell_type": "code",
   "execution_count": null,
   "id": "38d40e6e-4521-40a9-a96e-402a12722b5d",
   "metadata": {},
   "outputs": [],
   "source": []
  }
 ],
 "metadata": {
  "kernelspec": {
   "display_name": "Julia 1.11.3",
   "language": "julia",
   "name": "julia-1.11"
  },
  "language_info": {
   "file_extension": ".jl",
   "mimetype": "application/julia",
   "name": "julia",
   "version": "1.11.3"
  }
 },
 "nbformat": 4,
 "nbformat_minor": 5
}
